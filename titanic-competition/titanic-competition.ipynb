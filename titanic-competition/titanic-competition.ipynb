{
 "cells": [
  {
   "cell_type": "code",
   "execution_count": 1,
   "id": "b5a61959",
   "metadata": {
    "_cell_guid": "b1076dfc-b9ad-4769-8c92-a6c4dae69d19",
    "_uuid": "8f2839f25d086af736a60e9eeb907d3b93b6e0e5",
    "execution": {
     "iopub.execute_input": "2021-10-17T13:55:20.302423Z",
     "iopub.status.busy": "2021-10-17T13:55:20.300593Z",
     "iopub.status.idle": "2021-10-17T13:55:21.291827Z",
     "shell.execute_reply": "2021-10-17T13:55:21.291032Z",
     "shell.execute_reply.started": "2021-10-17T13:53:34.105179Z"
    },
    "papermill": {
     "duration": 1.01557,
     "end_time": "2021-10-17T13:55:21.291995",
     "exception": false,
     "start_time": "2021-10-17T13:55:20.276425",
     "status": "completed"
    },
    "tags": []
   },
   "outputs": [
    {
     "name": "stdout",
     "output_type": "stream",
     "text": [
      "/kaggle/input/titanic/train.csv\n",
      "/kaggle/input/titanic/test.csv\n",
      "/kaggle/input/titanic/gender_submission.csv\n"
     ]
    }
   ],
   "source": [
    "# This Python 3 environment comes with many helpful analytics libraries installed\n",
    "# It is defined by the kaggle/python Docker image: https://github.com/kaggle/docker-python\n",
    "# For example, here's several helpful packages to load\n",
    "\n",
    "import numpy as np # linear algebra\n",
    "import pandas as pd # data processing, CSV file I/O (e.g. pd.read_csv)\n",
    "import sklearn as sk\n",
    "from sklearn.model_selection import train_test_split\n",
    "# Input data files are available in the read-only \"../input/\" directory\n",
    "# For example, running this (by clicking run or pressing Shift+Enter) will list all files under the input directory\n",
    "\n",
    "import os\n",
    "for dirname, _, filenames in os.walk('/kaggle/input'):\n",
    "    for filename in filenames:\n",
    "        print(os.path.join(dirname, filename))\n",
    "\n",
    "# You can write up to 20GB to the current directory (/kaggle/working/) that gets preserved as output when you create a version using \"Save & Run All\" \n",
    "# You can also write temporary files to /kaggle/temp/, but they won't be saved outside of the current session\n",
    "import matplotlib.pyplot as plt\n",
    "%matplotlib inline"
   ]
  },
  {
   "cell_type": "code",
   "execution_count": 2,
   "id": "71314236",
   "metadata": {
    "execution": {
     "iopub.execute_input": "2021-10-17T13:55:21.329808Z",
     "iopub.status.busy": "2021-10-17T13:55:21.328919Z",
     "iopub.status.idle": "2021-10-17T13:55:21.362410Z",
     "shell.execute_reply": "2021-10-17T13:55:21.361838Z",
     "shell.execute_reply.started": "2021-10-17T13:53:34.121129Z"
    },
    "papermill": {
     "duration": 0.053869,
     "end_time": "2021-10-17T13:55:21.362569",
     "exception": false,
     "start_time": "2021-10-17T13:55:21.308700",
     "status": "completed"
    },
    "tags": []
   },
   "outputs": [],
   "source": [
    "df_train = pd.read_csv('/kaggle/input/titanic/train.csv')\n",
    "df_test = pd.read_csv('/kaggle/input/titanic/test.csv')"
   ]
  },
  {
   "cell_type": "code",
   "execution_count": 3,
   "id": "977b1b5e",
   "metadata": {
    "execution": {
     "iopub.execute_input": "2021-10-17T13:55:21.395858Z",
     "iopub.status.busy": "2021-10-17T13:55:21.395203Z",
     "iopub.status.idle": "2021-10-17T13:55:21.416894Z",
     "shell.execute_reply": "2021-10-17T13:55:21.417391Z",
     "shell.execute_reply.started": "2021-10-17T13:53:34.142179Z"
    },
    "papermill": {
     "duration": 0.039927,
     "end_time": "2021-10-17T13:55:21.417574",
     "exception": false,
     "start_time": "2021-10-17T13:55:21.377647",
     "status": "completed"
    },
    "tags": []
   },
   "outputs": [
    {
     "data": {
      "text/html": [
       "<div>\n",
       "<style scoped>\n",
       "    .dataframe tbody tr th:only-of-type {\n",
       "        vertical-align: middle;\n",
       "    }\n",
       "\n",
       "    .dataframe tbody tr th {\n",
       "        vertical-align: top;\n",
       "    }\n",
       "\n",
       "    .dataframe thead th {\n",
       "        text-align: right;\n",
       "    }\n",
       "</style>\n",
       "<table border=\"1\" class=\"dataframe\">\n",
       "  <thead>\n",
       "    <tr style=\"text-align: right;\">\n",
       "      <th></th>\n",
       "      <th>PassengerId</th>\n",
       "      <th>Survived</th>\n",
       "      <th>Pclass</th>\n",
       "      <th>Name</th>\n",
       "      <th>Sex</th>\n",
       "      <th>Age</th>\n",
       "      <th>SibSp</th>\n",
       "      <th>Parch</th>\n",
       "      <th>Ticket</th>\n",
       "      <th>Fare</th>\n",
       "      <th>Cabin</th>\n",
       "      <th>Embarked</th>\n",
       "    </tr>\n",
       "  </thead>\n",
       "  <tbody>\n",
       "    <tr>\n",
       "      <th>0</th>\n",
       "      <td>1</td>\n",
       "      <td>0</td>\n",
       "      <td>3</td>\n",
       "      <td>Braund, Mr. Owen Harris</td>\n",
       "      <td>male</td>\n",
       "      <td>22.0</td>\n",
       "      <td>1</td>\n",
       "      <td>0</td>\n",
       "      <td>A/5 21171</td>\n",
       "      <td>7.2500</td>\n",
       "      <td>NaN</td>\n",
       "      <td>S</td>\n",
       "    </tr>\n",
       "    <tr>\n",
       "      <th>1</th>\n",
       "      <td>2</td>\n",
       "      <td>1</td>\n",
       "      <td>1</td>\n",
       "      <td>Cumings, Mrs. John Bradley (Florence Briggs Th...</td>\n",
       "      <td>female</td>\n",
       "      <td>38.0</td>\n",
       "      <td>1</td>\n",
       "      <td>0</td>\n",
       "      <td>PC 17599</td>\n",
       "      <td>71.2833</td>\n",
       "      <td>C85</td>\n",
       "      <td>C</td>\n",
       "    </tr>\n",
       "    <tr>\n",
       "      <th>2</th>\n",
       "      <td>3</td>\n",
       "      <td>1</td>\n",
       "      <td>3</td>\n",
       "      <td>Heikkinen, Miss. Laina</td>\n",
       "      <td>female</td>\n",
       "      <td>26.0</td>\n",
       "      <td>0</td>\n",
       "      <td>0</td>\n",
       "      <td>STON/O2. 3101282</td>\n",
       "      <td>7.9250</td>\n",
       "      <td>NaN</td>\n",
       "      <td>S</td>\n",
       "    </tr>\n",
       "    <tr>\n",
       "      <th>3</th>\n",
       "      <td>4</td>\n",
       "      <td>1</td>\n",
       "      <td>1</td>\n",
       "      <td>Futrelle, Mrs. Jacques Heath (Lily May Peel)</td>\n",
       "      <td>female</td>\n",
       "      <td>35.0</td>\n",
       "      <td>1</td>\n",
       "      <td>0</td>\n",
       "      <td>113803</td>\n",
       "      <td>53.1000</td>\n",
       "      <td>C123</td>\n",
       "      <td>S</td>\n",
       "    </tr>\n",
       "    <tr>\n",
       "      <th>4</th>\n",
       "      <td>5</td>\n",
       "      <td>0</td>\n",
       "      <td>3</td>\n",
       "      <td>Allen, Mr. William Henry</td>\n",
       "      <td>male</td>\n",
       "      <td>35.0</td>\n",
       "      <td>0</td>\n",
       "      <td>0</td>\n",
       "      <td>373450</td>\n",
       "      <td>8.0500</td>\n",
       "      <td>NaN</td>\n",
       "      <td>S</td>\n",
       "    </tr>\n",
       "  </tbody>\n",
       "</table>\n",
       "</div>"
      ],
      "text/plain": [
       "   PassengerId  Survived  Pclass  \\\n",
       "0            1         0       3   \n",
       "1            2         1       1   \n",
       "2            3         1       3   \n",
       "3            4         1       1   \n",
       "4            5         0       3   \n",
       "\n",
       "                                                Name     Sex   Age  SibSp  \\\n",
       "0                            Braund, Mr. Owen Harris    male  22.0      1   \n",
       "1  Cumings, Mrs. John Bradley (Florence Briggs Th...  female  38.0      1   \n",
       "2                             Heikkinen, Miss. Laina  female  26.0      0   \n",
       "3       Futrelle, Mrs. Jacques Heath (Lily May Peel)  female  35.0      1   \n",
       "4                           Allen, Mr. William Henry    male  35.0      0   \n",
       "\n",
       "   Parch            Ticket     Fare Cabin Embarked  \n",
       "0      0         A/5 21171   7.2500   NaN        S  \n",
       "1      0          PC 17599  71.2833   C85        C  \n",
       "2      0  STON/O2. 3101282   7.9250   NaN        S  \n",
       "3      0            113803  53.1000  C123        S  \n",
       "4      0            373450   8.0500   NaN        S  "
      ]
     },
     "execution_count": 3,
     "metadata": {},
     "output_type": "execute_result"
    }
   ],
   "source": [
    "df_train.head()"
   ]
  },
  {
   "cell_type": "code",
   "execution_count": 4,
   "id": "88a96772",
   "metadata": {
    "execution": {
     "iopub.execute_input": "2021-10-17T13:55:21.452373Z",
     "iopub.status.busy": "2021-10-17T13:55:21.451767Z",
     "iopub.status.idle": "2021-10-17T13:55:21.457817Z",
     "shell.execute_reply": "2021-10-17T13:55:21.458396Z",
     "shell.execute_reply.started": "2021-10-17T13:53:34.160998Z"
    },
    "papermill": {
     "duration": 0.025178,
     "end_time": "2021-10-17T13:55:21.458577",
     "exception": false,
     "start_time": "2021-10-17T13:55:21.433399",
     "status": "completed"
    },
    "tags": []
   },
   "outputs": [],
   "source": [
    "target = df_train['Survived']"
   ]
  },
  {
   "cell_type": "code",
   "execution_count": 5,
   "id": "57bad7fd",
   "metadata": {
    "execution": {
     "iopub.execute_input": "2021-10-17T13:55:21.493071Z",
     "iopub.status.busy": "2021-10-17T13:55:21.492441Z",
     "iopub.status.idle": "2021-10-17T13:55:21.533733Z",
     "shell.execute_reply": "2021-10-17T13:55:21.534267Z",
     "shell.execute_reply.started": "2021-10-17T13:53:34.174938Z"
    },
    "papermill": {
     "duration": 0.060366,
     "end_time": "2021-10-17T13:55:21.534434",
     "exception": false,
     "start_time": "2021-10-17T13:55:21.474068",
     "status": "completed"
    },
    "tags": []
   },
   "outputs": [
    {
     "data": {
      "text/html": [
       "<div>\n",
       "<style scoped>\n",
       "    .dataframe tbody tr th:only-of-type {\n",
       "        vertical-align: middle;\n",
       "    }\n",
       "\n",
       "    .dataframe tbody tr th {\n",
       "        vertical-align: top;\n",
       "    }\n",
       "\n",
       "    .dataframe thead th {\n",
       "        text-align: right;\n",
       "    }\n",
       "</style>\n",
       "<table border=\"1\" class=\"dataframe\">\n",
       "  <thead>\n",
       "    <tr style=\"text-align: right;\">\n",
       "      <th></th>\n",
       "      <th>Sex</th>\n",
       "      <th>Age</th>\n",
       "      <th>SibSp</th>\n",
       "      <th>Pclass_1</th>\n",
       "      <th>Pclass_2</th>\n",
       "      <th>Pclass_3</th>\n",
       "      <th>Parch_0</th>\n",
       "      <th>Parch_1</th>\n",
       "      <th>Parch_2</th>\n",
       "      <th>Parch_3</th>\n",
       "      <th>Parch_4</th>\n",
       "      <th>Parch_5</th>\n",
       "      <th>Parch_6</th>\n",
       "      <th>Parch_9</th>\n",
       "      <th>Embarked_C</th>\n",
       "      <th>Embarked_Q</th>\n",
       "      <th>Embarked_S</th>\n",
       "    </tr>\n",
       "  </thead>\n",
       "  <tbody>\n",
       "    <tr>\n",
       "      <th>0</th>\n",
       "      <td>0</td>\n",
       "      <td>22.0</td>\n",
       "      <td>1</td>\n",
       "      <td>0</td>\n",
       "      <td>0</td>\n",
       "      <td>1</td>\n",
       "      <td>1</td>\n",
       "      <td>0</td>\n",
       "      <td>0</td>\n",
       "      <td>0</td>\n",
       "      <td>0</td>\n",
       "      <td>0</td>\n",
       "      <td>0</td>\n",
       "      <td>0</td>\n",
       "      <td>0</td>\n",
       "      <td>0</td>\n",
       "      <td>1</td>\n",
       "    </tr>\n",
       "    <tr>\n",
       "      <th>1</th>\n",
       "      <td>1</td>\n",
       "      <td>38.0</td>\n",
       "      <td>1</td>\n",
       "      <td>1</td>\n",
       "      <td>0</td>\n",
       "      <td>0</td>\n",
       "      <td>1</td>\n",
       "      <td>0</td>\n",
       "      <td>0</td>\n",
       "      <td>0</td>\n",
       "      <td>0</td>\n",
       "      <td>0</td>\n",
       "      <td>0</td>\n",
       "      <td>0</td>\n",
       "      <td>1</td>\n",
       "      <td>0</td>\n",
       "      <td>0</td>\n",
       "    </tr>\n",
       "    <tr>\n",
       "      <th>2</th>\n",
       "      <td>1</td>\n",
       "      <td>26.0</td>\n",
       "      <td>0</td>\n",
       "      <td>0</td>\n",
       "      <td>0</td>\n",
       "      <td>1</td>\n",
       "      <td>1</td>\n",
       "      <td>0</td>\n",
       "      <td>0</td>\n",
       "      <td>0</td>\n",
       "      <td>0</td>\n",
       "      <td>0</td>\n",
       "      <td>0</td>\n",
       "      <td>0</td>\n",
       "      <td>0</td>\n",
       "      <td>0</td>\n",
       "      <td>1</td>\n",
       "    </tr>\n",
       "    <tr>\n",
       "      <th>3</th>\n",
       "      <td>1</td>\n",
       "      <td>35.0</td>\n",
       "      <td>1</td>\n",
       "      <td>1</td>\n",
       "      <td>0</td>\n",
       "      <td>0</td>\n",
       "      <td>1</td>\n",
       "      <td>0</td>\n",
       "      <td>0</td>\n",
       "      <td>0</td>\n",
       "      <td>0</td>\n",
       "      <td>0</td>\n",
       "      <td>0</td>\n",
       "      <td>0</td>\n",
       "      <td>0</td>\n",
       "      <td>0</td>\n",
       "      <td>1</td>\n",
       "    </tr>\n",
       "    <tr>\n",
       "      <th>4</th>\n",
       "      <td>0</td>\n",
       "      <td>35.0</td>\n",
       "      <td>0</td>\n",
       "      <td>0</td>\n",
       "      <td>0</td>\n",
       "      <td>1</td>\n",
       "      <td>1</td>\n",
       "      <td>0</td>\n",
       "      <td>0</td>\n",
       "      <td>0</td>\n",
       "      <td>0</td>\n",
       "      <td>0</td>\n",
       "      <td>0</td>\n",
       "      <td>0</td>\n",
       "      <td>0</td>\n",
       "      <td>0</td>\n",
       "      <td>1</td>\n",
       "    </tr>\n",
       "  </tbody>\n",
       "</table>\n",
       "</div>"
      ],
      "text/plain": [
       "   Sex   Age  SibSp  Pclass_1  Pclass_2  Pclass_3  Parch_0  Parch_1  Parch_2  \\\n",
       "0    0  22.0      1         0         0         1        1        0        0   \n",
       "1    1  38.0      1         1         0         0        1        0        0   \n",
       "2    1  26.0      0         0         0         1        1        0        0   \n",
       "3    1  35.0      1         1         0         0        1        0        0   \n",
       "4    0  35.0      0         0         0         1        1        0        0   \n",
       "\n",
       "   Parch_3  Parch_4  Parch_5  Parch_6  Parch_9  Embarked_C  Embarked_Q  \\\n",
       "0        0        0        0        0        0           0           0   \n",
       "1        0        0        0        0        0           1           0   \n",
       "2        0        0        0        0        0           0           0   \n",
       "3        0        0        0        0        0           0           0   \n",
       "4        0        0        0        0        0           0           0   \n",
       "\n",
       "   Embarked_S  \n",
       "0           1  \n",
       "1           0  \n",
       "2           1  \n",
       "3           1  \n",
       "4           1  "
      ]
     },
     "execution_count": 5,
     "metadata": {},
     "output_type": "execute_result"
    }
   ],
   "source": [
    "df_train = df_train.drop(labels = ['Name','Ticket','PassengerId','Fare','Cabin','Survived'],axis=1)\n",
    "df_train['Sex'].replace(to_replace=['male','female'], value=[0,1],inplace=True)\n",
    "\n",
    "df_test = df_test.drop(labels = ['Name','Ticket','PassengerId','Fare','Cabin'],axis=1)\n",
    "df_test['Sex'].replace(to_replace=['male','female'], value=[0,1],inplace=True)\n",
    "\n",
    "\n",
    "temp = pd.get_dummies(pd.concat([df_train,df_test],keys=[0,1]), columns=['Pclass','Parch','Embarked'])\n",
    "# Selecting data from multi index and assigning them i.e\n",
    "df_train,df_test = temp.xs(0),temp.xs(1)\n",
    "df_train.head()\n"
   ]
  },
  {
   "cell_type": "code",
   "execution_count": 6,
   "id": "4f2dc3d0",
   "metadata": {
    "execution": {
     "iopub.execute_input": "2021-10-17T13:55:21.573361Z",
     "iopub.status.busy": "2021-10-17T13:55:21.572616Z",
     "iopub.status.idle": "2021-10-17T13:55:21.832981Z",
     "shell.execute_reply": "2021-10-17T13:55:21.832365Z",
     "shell.execute_reply.started": "2021-10-17T13:53:34.220825Z"
    },
    "papermill": {
     "duration": 0.282582,
     "end_time": "2021-10-17T13:55:21.833130",
     "exception": false,
     "start_time": "2021-10-17T13:55:21.550548",
     "status": "completed"
    },
    "tags": []
   },
   "outputs": [],
   "source": [
    "input_matrix = df_train\n",
    "from sklearn.impute import SimpleImputer\n",
    "imp=SimpleImputer( missing_values=np.nan,strategy='mean',fill_value=None,verbose=0,copy=True )\n",
    "input_matrix=imp.fit_transform(input_matrix)\n",
    "from sklearn import preprocessing\n",
    "input_matrix= preprocessing.StandardScaler().fit(input_matrix).transform(input_matrix)"
   ]
  },
  {
   "cell_type": "code",
   "execution_count": 7,
   "id": "355b2b05",
   "metadata": {
    "execution": {
     "iopub.execute_input": "2021-10-17T13:55:21.874425Z",
     "iopub.status.busy": "2021-10-17T13:55:21.872741Z",
     "iopub.status.idle": "2021-10-17T13:55:22.090403Z",
     "shell.execute_reply": "2021-10-17T13:55:22.089861Z",
     "shell.execute_reply.started": "2021-10-17T13:53:34.243474Z"
    },
    "papermill": {
     "duration": 0.240911,
     "end_time": "2021-10-17T13:55:22.090568",
     "exception": false,
     "start_time": "2021-10-17T13:55:21.849657",
     "status": "completed"
    },
    "tags": []
   },
   "outputs": [
    {
     "name": "stdout",
     "output_type": "stream",
     "text": [
      "K= 1\n",
      "K= 2\n",
      "K= 3\n",
      "K= 4\n",
      "K= 5\n",
      "K= 6\n",
      "K= 7\n",
      "K= 8\n",
      "K= 9\n",
      "K= 10\n",
      "K= 11\n"
     ]
    }
   ],
   "source": [
    "from sklearn.model_selection import train_test_split\n",
    "from sklearn.neighbors import KNeighborsClassifier\n",
    "from sklearn import metrics\n",
    "#Split Data for training and testing\n",
    "X_train, X_test, y_train, y_test = train_test_split(input_matrix, target,test_size=0.33)\n",
    "#Train Model and Predict\n",
    "acc = []\n",
    "for i in range(1,12):\n",
    "    print (\"K=\",i)\n",
    "    neigh = KNeighborsClassifier(n_neighbors = i).fit(X_train,y_train)\n",
    "    yhat = neigh.predict(X_test)\n",
    "    acc.append(metrics.accuracy_score(y_test, yhat))"
   ]
  },
  {
   "cell_type": "code",
   "execution_count": 8,
   "id": "4ddcc754",
   "metadata": {
    "execution": {
     "iopub.execute_input": "2021-10-17T13:55:22.146278Z",
     "iopub.status.busy": "2021-10-17T13:55:22.145562Z",
     "iopub.status.idle": "2021-10-17T13:55:22.348051Z",
     "shell.execute_reply": "2021-10-17T13:55:22.347376Z",
     "shell.execute_reply.started": "2021-10-17T13:53:35.272873Z"
    },
    "papermill": {
     "duration": 0.240739,
     "end_time": "2021-10-17T13:55:22.348206",
     "exception": false,
     "start_time": "2021-10-17T13:55:22.107467",
     "status": "completed"
    },
    "tags": []
   },
   "outputs": [
    {
     "name": "stdout",
     "output_type": "stream",
     "text": [
      "Maximum accuracy: 0.7864406779661017 at K = 4\n"
     ]
    },
    {
     "data": {
      "image/png": "[encoded data removed]",
      "text/plain": [
       "<Figure size 720x432 with 1 Axes>"
      ]
     },
     "metadata": {
      "needs_background": "light"
     },
     "output_type": "display_data"
    }
   ],
   "source": [
    "plt.figure(figsize=(10,6))\n",
    "plt.plot(range(1,12),acc)\n",
    "plt.title('accuracy vs. K Value')\n",
    "plt.xlabel('K')\n",
    "plt.ylabel('Accuracy')\n",
    "print(\"Maximum accuracy:\",max(acc),\"at K =\",acc.index(max(acc))+1)"
   ]
  },
  {
   "cell_type": "code",
   "execution_count": 9,
   "id": "6f0685df",
   "metadata": {
    "execution": {
     "iopub.execute_input": "2021-10-17T13:55:22.387880Z",
     "iopub.status.busy": "2021-10-17T13:55:22.387190Z",
     "iopub.status.idle": "2021-10-17T13:55:22.392765Z",
     "shell.execute_reply": "2021-10-17T13:55:22.393284Z",
     "shell.execute_reply.started": "2021-10-17T13:53:35.513891Z"
    },
    "papermill": {
     "duration": 0.027147,
     "end_time": "2021-10-17T13:55:22.393464",
     "exception": false,
     "start_time": "2021-10-17T13:55:22.366317",
     "status": "completed"
    },
    "tags": []
   },
   "outputs": [],
   "source": [
    "i=acc.index(max(acc))+1\n",
    "neigh = KNeighborsClassifier(n_neighbors = i).fit(X_train,y_train)"
   ]
  },
  {
   "cell_type": "code",
   "execution_count": 10,
   "id": "edd3a2ac",
   "metadata": {
    "execution": {
     "iopub.execute_input": "2021-10-17T13:55:22.433394Z",
     "iopub.status.busy": "2021-10-17T13:55:22.432710Z",
     "iopub.status.idle": "2021-10-17T13:55:22.482805Z",
     "shell.execute_reply": "2021-10-17T13:55:22.483320Z",
     "shell.execute_reply.started": "2021-10-17T13:53:35.530848Z"
    },
    "papermill": {
     "duration": 0.071812,
     "end_time": "2021-10-17T13:55:22.483510",
     "exception": false,
     "start_time": "2021-10-17T13:55:22.411698",
     "status": "completed"
    },
    "tags": []
   },
   "outputs": [
    {
     "name": "stdout",
     "output_type": "stream",
     "text": [
      "Maximum accuracy: 0.7898305084745763 with Kernel = rbf\n"
     ]
    }
   ],
   "source": [
    "from sklearn import svm\n",
    "\n",
    "#Finding best kernel\n",
    "knls = ['linear', 'rbf', 'sigmoid']\n",
    "acc_svm = []\n",
    "for kernel in knls:\n",
    "    clf_krnl = svm.SVC(kernel=kernel,gamma=\"auto\").fit(X_train, y_train)\n",
    "    svm_predict = clf_krnl.predict(X_test)\n",
    "    acc_svm.append(metrics.accuracy_score(y_test, svm_predict)) \n",
    "    \n",
    "print(\"Maximum accuracy:\",max(acc_svm),\"with Kernel =\",knls[acc_svm.index(max(acc_svm))])"
   ]
  },
  {
   "cell_type": "code",
   "execution_count": 11,
   "id": "2d254ec5",
   "metadata": {
    "execution": {
     "iopub.execute_input": "2021-10-17T13:55:22.523224Z",
     "iopub.status.busy": "2021-10-17T13:55:22.522580Z",
     "iopub.status.idle": "2021-10-17T13:55:22.540280Z",
     "shell.execute_reply": "2021-10-17T13:55:22.540843Z",
     "shell.execute_reply.started": "2021-10-17T13:53:35.868588Z"
    },
    "papermill": {
     "duration": 0.039393,
     "end_time": "2021-10-17T13:55:22.541015",
     "exception": false,
     "start_time": "2021-10-17T13:55:22.501622",
     "status": "completed"
    },
    "tags": []
   },
   "outputs": [],
   "source": [
    "#Training the model with best kernel \n",
    "kernel=\"rbf\"\n",
    "clf_krnl = svm.SVC(kernel=kernel,gamma=\"auto\").fit(X_train, y_train)"
   ]
  },
  {
   "cell_type": "code",
   "execution_count": 12,
   "id": "235bfc60",
   "metadata": {
    "execution": {
     "iopub.execute_input": "2021-10-17T13:55:22.580640Z",
     "iopub.status.busy": "2021-10-17T13:55:22.580012Z",
     "iopub.status.idle": "2021-10-17T13:55:22.613250Z",
     "shell.execute_reply": "2021-10-17T13:55:22.612567Z",
     "shell.execute_reply.started": "2021-10-17T13:53:35.963969Z"
    },
    "papermill": {
     "duration": 0.054282,
     "end_time": "2021-10-17T13:55:22.613397",
     "exception": false,
     "start_time": "2021-10-17T13:55:22.559115",
     "status": "completed"
    },
    "tags": []
   },
   "outputs": [],
   "source": [
    "from sklearn import tree\n",
    "#Train the model\n",
    "clf_tree =  tree.DecisionTreeClassifier().fit(X_train,y_train)"
   ]
  },
  {
   "cell_type": "code",
   "execution_count": 13,
   "id": "0750f7ae",
   "metadata": {
    "execution": {
     "iopub.execute_input": "2021-10-17T13:55:22.654008Z",
     "iopub.status.busy": "2021-10-17T13:55:22.653318Z",
     "iopub.status.idle": "2021-10-17T13:55:22.678980Z",
     "shell.execute_reply": "2021-10-17T13:55:22.679458Z",
     "shell.execute_reply.started": "2021-10-17T13:53:35.977660Z"
    },
    "papermill": {
     "duration": 0.047053,
     "end_time": "2021-10-17T13:55:22.679664",
     "exception": false,
     "start_time": "2021-10-17T13:55:22.632611",
     "status": "completed"
    },
    "tags": []
   },
   "outputs": [],
   "source": [
    "from sklearn.linear_model import LogisticRegression\n",
    "LR = LogisticRegression(random_state=0, solver='lbfgs',\n",
    "                         multi_class='multinomial').fit(X_train,y_train)"
   ]
  },
  {
   "cell_type": "code",
   "execution_count": 14,
   "id": "80751b4a",
   "metadata": {
    "execution": {
     "iopub.execute_input": "2021-10-17T13:55:22.719875Z",
     "iopub.status.busy": "2021-10-17T13:55:22.719240Z",
     "iopub.status.idle": "2021-10-17T13:55:22.728208Z",
     "shell.execute_reply": "2021-10-17T13:55:22.728701Z",
     "shell.execute_reply.started": "2021-10-17T13:53:36.032921Z"
    },
    "papermill": {
     "duration": 0.030558,
     "end_time": "2021-10-17T13:55:22.728886",
     "exception": false,
     "start_time": "2021-10-17T13:55:22.698328",
     "status": "completed"
    },
    "tags": []
   },
   "outputs": [],
   "source": [
    "#prepare test data\n",
    "input_test_matrix = df_test\n",
    "imp=SimpleImputer( missing_values=np.nan,strategy='mean',fill_value=None,verbose=0,copy=True )\n",
    "input_test_matrix=imp.fit_transform(input_test_matrix)\n",
    "input_test_matrix= preprocessing.StandardScaler().fit(input_test_matrix).transform(input_test_matrix)"
   ]
  },
  {
   "cell_type": "code",
   "execution_count": 15,
   "id": "e9f44337",
   "metadata": {
    "execution": {
     "iopub.execute_input": "2021-10-17T13:55:22.768885Z",
     "iopub.status.busy": "2021-10-17T13:55:22.768190Z",
     "iopub.status.idle": "2021-10-17T13:55:22.801870Z",
     "shell.execute_reply": "2021-10-17T13:55:22.802370Z",
     "shell.execute_reply.started": "2021-10-17T13:53:36.050967Z"
    },
    "papermill": {
     "duration": 0.055326,
     "end_time": "2021-10-17T13:55:22.802572",
     "exception": false,
     "start_time": "2021-10-17T13:55:22.747246",
     "status": "completed"
    },
    "tags": []
   },
   "outputs": [],
   "source": [
    "y_pred = neigh.predict(input_test_matrix)\n",
    "yhat_svm = clf_krnl.predict(input_test_matrix)\n",
    "y_tree =clf_tree.predict(input_test_matrix)\n",
    "y_lr = LR.predict(input_test_matrix)"
   ]
  },
  {
   "cell_type": "code",
   "execution_count": 16,
   "id": "998e9ed5",
   "metadata": {
    "execution": {
     "iopub.execute_input": "2021-10-17T13:55:22.842565Z",
     "iopub.status.busy": "2021-10-17T13:55:22.841916Z",
     "iopub.status.idle": "2021-10-17T13:55:22.847811Z",
     "shell.execute_reply": "2021-10-17T13:55:22.848299Z",
     "shell.execute_reply.started": "2021-10-17T13:53:36.238355Z"
    },
    "papermill": {
     "duration": 0.027476,
     "end_time": "2021-10-17T13:55:22.848473",
     "exception": false,
     "start_time": "2021-10-17T13:55:22.820997",
     "status": "completed"
    },
    "tags": []
   },
   "outputs": [],
   "source": [
    "import csv\n",
    "with open('submission.csv', 'w') as csvfile:\n",
    "    csvwriter = csv.writer(csvfile)\n",
    "    csvwriter.writerow(['PassengerId', 'Survived'])\n",
    "    for i,v in enumerate(y_lr):\n",
    "        csvwriter.writerow([i+892,str(v)])"
   ]
  },
  {
   "cell_type": "code",
   "execution_count": 17,
   "id": "fcb92ba2",
   "metadata": {
    "execution": {
     "iopub.execute_input": "2021-10-17T13:55:22.889924Z",
     "iopub.status.busy": "2021-10-17T13:55:22.888173Z",
     "iopub.status.idle": "2021-10-17T13:55:22.900506Z",
     "shell.execute_reply": "2021-10-17T13:55:22.901017Z",
     "shell.execute_reply.started": "2021-10-17T13:53:36.251920Z"
    },
    "papermill": {
     "duration": 0.034338,
     "end_time": "2021-10-17T13:55:22.901184",
     "exception": false,
     "start_time": "2021-10-17T13:55:22.866846",
     "status": "completed"
    },
    "tags": []
   },
   "outputs": [
    {
     "data": {
      "text/html": [
       "<div>\n",
       "<style scoped>\n",
       "    .dataframe tbody tr th:only-of-type {\n",
       "        vertical-align: middle;\n",
       "    }\n",
       "\n",
       "    .dataframe tbody tr th {\n",
       "        vertical-align: top;\n",
       "    }\n",
       "\n",
       "    .dataframe thead th {\n",
       "        text-align: right;\n",
       "    }\n",
       "</style>\n",
       "<table border=\"1\" class=\"dataframe\">\n",
       "  <thead>\n",
       "    <tr style=\"text-align: right;\">\n",
       "      <th></th>\n",
       "      <th>PassengerId</th>\n",
       "      <th>Survived</th>\n",
       "    </tr>\n",
       "  </thead>\n",
       "  <tbody>\n",
       "    <tr>\n",
       "      <th>0</th>\n",
       "      <td>892</td>\n",
       "      <td>0</td>\n",
       "    </tr>\n",
       "    <tr>\n",
       "      <th>1</th>\n",
       "      <td>893</td>\n",
       "      <td>0</td>\n",
       "    </tr>\n",
       "    <tr>\n",
       "      <th>2</th>\n",
       "      <td>894</td>\n",
       "      <td>0</td>\n",
       "    </tr>\n",
       "    <tr>\n",
       "      <th>3</th>\n",
       "      <td>895</td>\n",
       "      <td>0</td>\n",
       "    </tr>\n",
       "    <tr>\n",
       "      <th>4</th>\n",
       "      <td>896</td>\n",
       "      <td>1</td>\n",
       "    </tr>\n",
       "    <tr>\n",
       "      <th>...</th>\n",
       "      <td>...</td>\n",
       "      <td>...</td>\n",
       "    </tr>\n",
       "    <tr>\n",
       "      <th>413</th>\n",
       "      <td>1305</td>\n",
       "      <td>0</td>\n",
       "    </tr>\n",
       "    <tr>\n",
       "      <th>414</th>\n",
       "      <td>1306</td>\n",
       "      <td>1</td>\n",
       "    </tr>\n",
       "    <tr>\n",
       "      <th>415</th>\n",
       "      <td>1307</td>\n",
       "      <td>0</td>\n",
       "    </tr>\n",
       "    <tr>\n",
       "      <th>416</th>\n",
       "      <td>1308</td>\n",
       "      <td>0</td>\n",
       "    </tr>\n",
       "    <tr>\n",
       "      <th>417</th>\n",
       "      <td>1309</td>\n",
       "      <td>0</td>\n",
       "    </tr>\n",
       "  </tbody>\n",
       "</table>\n",
       "<p>418 rows × 2 columns</p>\n",
       "</div>"
      ],
      "text/plain": [
       "     PassengerId  Survived\n",
       "0            892         0\n",
       "1            893         0\n",
       "2            894         0\n",
       "3            895         0\n",
       "4            896         1\n",
       "..           ...       ...\n",
       "413         1305         0\n",
       "414         1306         1\n",
       "415         1307         0\n",
       "416         1308         0\n",
       "417         1309         0\n",
       "\n",
       "[418 rows x 2 columns]"
      ]
     },
     "execution_count": 17,
     "metadata": {},
     "output_type": "execute_result"
    }
   ],
   "source": [
    "df_output = pd.read_csv('/kaggle/working/submission.csv')\n",
    "df_output"
   ]
  }
 ],
 "metadata": {
  "kernelspec": {
   "display_name": "Python 3",
   "language": "python",
   "name": "python3"
  },
  "language_info": {
   "codemirror_mode": {
    "name": "ipython",
    "version": 3
   },
   "file_extension": ".py",
   "mimetype": "text/x-python",
   "name": "python",
   "nbconvert_exporter": "python",
   "pygments_lexer": "ipython3",
   "version": "3.7.10"
  },
  "papermill": {
   "default_parameters": {},
   "duration": 12.447378,
   "end_time": "2021-10-17T13:55:23.629596",
   "environment_variables": {},
   "exception": null,
   "input_path": "__notebook__.ipynb",
   "output_path": "__notebook__.ipynb",
   "parameters": {},
   "start_time": "2021-10-17T13:55:11.182218",
   "version": "2.3.3"
  }
 },
 "nbformat": 4,
 "nbformat_minor": 5
}
