{
 "cells": [
  {
   "cell_type": "code",
   "execution_count": 1,
   "id": "d689b61e",
   "metadata": {
    "_cell_guid": "b1076dfc-b9ad-4769-8c92-a6c4dae69d19",
    "_uuid": "8f2839f25d086af736a60e9eeb907d3b93b6e0e5",
    "execution": {
     "iopub.execute_input": "2022-04-20T21:53:16.798092Z",
     "iopub.status.busy": "2022-04-20T21:53:16.797371Z",
     "iopub.status.idle": "2022-04-20T21:53:16.810719Z",
     "shell.execute_reply": "2022-04-20T21:53:16.809803Z"
    },
    "papermill": {
     "duration": 0.02857,
     "end_time": "2022-04-20T21:53:16.814413",
     "exception": false,
     "start_time": "2022-04-20T21:53:16.785843",
     "status": "completed"
    },
    "tags": []
   },
   "outputs": [
    {
     "name": "stdout",
     "output_type": "stream",
     "text": [
      "/kaggle/input/tabular-playground-series-apr-2022/sample_submission.csv\n",
      "/kaggle/input/tabular-playground-series-apr-2022/train_labels.csv\n",
      "/kaggle/input/tabular-playground-series-apr-2022/train.csv\n",
      "/kaggle/input/tabular-playground-series-apr-2022/test.csv\n"
     ]
    }
   ],
   "source": [
    "# This Python 3 environment comes with many helpful analytics libraries installed\n",
    "# It is defined by the kaggle/python Docker image: https://github.com/kaggle/docker-python\n",
    "# For example, here's several helpful packages to load\n",
    "\n",
    "import numpy as np # linear algebra\n",
    "import pandas as pd # data processing, CSV file I/O (e.g. pd.read_csv)\n",
    "\n",
    "# Input data files are available in the read-only \"../input/\" directory\n",
    "# For example, running this (by clicking run or pressing Shift+Enter) will list all files under the input directory\n",
    "\n",
    "import os\n",
    "for dirname, _, filenames in os.walk('/kaggle/input'):\n",
    "    for filename in filenames:\n",
    "        print(os.path.join(dirname, filename))\n",
    "\n",
    "# You can write up to 20GB to the current directory (/kaggle/working/) that gets preserved as output when you create a version using \"Save & Run All\" \n",
    "# You can also write temporary files to /kaggle/temp/, but they won't be saved outside of the current session"
   ]
  },
  {
   "cell_type": "code",
   "execution_count": 2,
   "id": "4ffb6784",
   "metadata": {
    "execution": {
     "iopub.execute_input": "2022-04-20T21:53:16.835038Z",
     "iopub.status.busy": "2022-04-20T21:53:16.834472Z",
     "iopub.status.idle": "2022-04-20T21:53:28.712682Z",
     "shell.execute_reply": "2022-04-20T21:53:28.711619Z"
    },
    "papermill": {
     "duration": 11.891866,
     "end_time": "2022-04-20T21:53:28.716143",
     "exception": false,
     "start_time": "2022-04-20T21:53:16.824277",
     "status": "completed"
    },
    "tags": []
   },
   "outputs": [],
   "source": [
    "df_train = pd.read_csv('/kaggle/input/tabular-playground-series-apr-2022/train.csv')\n",
    "df_train_labels = pd.read_csv('/kaggle/input/tabular-playground-series-apr-2022/train_labels.csv')\n",
    "df_test = pd.read_csv('/kaggle/input/tabular-playground-series-apr-2022/test.csv')"
   ]
  },
  {
   "cell_type": "code",
   "execution_count": 3,
   "id": "8b51def8",
   "metadata": {
    "execution": {
     "iopub.execute_input": "2022-04-20T21:53:28.736131Z",
     "iopub.status.busy": "2022-04-20T21:53:28.735815Z",
     "iopub.status.idle": "2022-04-20T21:53:29.889519Z",
     "shell.execute_reply": "2022-04-20T21:53:29.888497Z"
    },
    "papermill": {
     "duration": 1.166021,
     "end_time": "2022-04-20T21:53:29.891731",
     "exception": false,
     "start_time": "2022-04-20T21:53:28.725710",
     "status": "completed"
    },
    "tags": []
   },
   "outputs": [
    {
     "data": {
      "text/html": [
       "<div>\n",
       "<style scoped>\n",
       "    .dataframe tbody tr th:only-of-type {\n",
       "        vertical-align: middle;\n",
       "    }\n",
       "\n",
       "    .dataframe tbody tr th {\n",
       "        vertical-align: top;\n",
       "    }\n",
       "\n",
       "    .dataframe thead th {\n",
       "        text-align: right;\n",
       "    }\n",
       "</style>\n",
       "<table border=\"1\" class=\"dataframe\">\n",
       "  <thead>\n",
       "    <tr style=\"text-align: right;\">\n",
       "      <th></th>\n",
       "      <th>subject_avg</th>\n",
       "      <th>sensor_00_avg</th>\n",
       "      <th>sensor_01_avg</th>\n",
       "      <th>sensor_02_avg</th>\n",
       "      <th>sensor_03_avg</th>\n",
       "      <th>sensor_04_avg</th>\n",
       "      <th>sensor_05_avg</th>\n",
       "      <th>sensor_06_avg</th>\n",
       "      <th>sensor_07_avg</th>\n",
       "      <th>sensor_08_avg</th>\n",
       "      <th>...</th>\n",
       "      <th>sensor_03_max</th>\n",
       "      <th>sensor_04_max</th>\n",
       "      <th>sensor_05_max</th>\n",
       "      <th>sensor_06_max</th>\n",
       "      <th>sensor_07_max</th>\n",
       "      <th>sensor_08_max</th>\n",
       "      <th>sensor_09_max</th>\n",
       "      <th>sensor_10_max</th>\n",
       "      <th>sensor_11_max</th>\n",
       "      <th>sensor_12_max</th>\n",
       "    </tr>\n",
       "  </thead>\n",
       "  <tbody>\n",
       "    <tr>\n",
       "      <th>0</th>\n",
       "      <td>47</td>\n",
       "      <td>0.041744</td>\n",
       "      <td>-0.013025</td>\n",
       "      <td>0.739306</td>\n",
       "      <td>0.034204</td>\n",
       "      <td>-0.054774</td>\n",
       "      <td>0.018537</td>\n",
       "      <td>0.016545</td>\n",
       "      <td>0.055153</td>\n",
       "      <td>0.031667</td>\n",
       "      <td>...</td>\n",
       "      <td>5.712389</td>\n",
       "      <td>0.971886</td>\n",
       "      <td>1.280479</td>\n",
       "      <td>2.977231</td>\n",
       "      <td>9.193893</td>\n",
       "      <td>2.3</td>\n",
       "      <td>1.964595</td>\n",
       "      <td>1.809610</td>\n",
       "      <td>2.989712</td>\n",
       "      <td>6.674766</td>\n",
       "    </tr>\n",
       "    <tr>\n",
       "      <th>1</th>\n",
       "      <td>66</td>\n",
       "      <td>-0.069294</td>\n",
       "      <td>-0.019958</td>\n",
       "      <td>-1.602773</td>\n",
       "      <td>0.120162</td>\n",
       "      <td>0.147499</td>\n",
       "      <td>-0.002032</td>\n",
       "      <td>-0.053780</td>\n",
       "      <td>-0.009746</td>\n",
       "      <td>-0.075000</td>\n",
       "      <td>...</td>\n",
       "      <td>5.637168</td>\n",
       "      <td>3.661950</td>\n",
       "      <td>5.956619</td>\n",
       "      <td>2.775046</td>\n",
       "      <td>6.950382</td>\n",
       "      <td>2.3</td>\n",
       "      <td>3.800578</td>\n",
       "      <td>9.955438</td>\n",
       "      <td>8.044239</td>\n",
       "      <td>144.598039</td>\n",
       "    </tr>\n",
       "    <tr>\n",
       "      <th>2</th>\n",
       "      <td>66</td>\n",
       "      <td>-0.001546</td>\n",
       "      <td>0.025000</td>\n",
       "      <td>-1.008764</td>\n",
       "      <td>-0.024794</td>\n",
       "      <td>-0.174372</td>\n",
       "      <td>-0.000362</td>\n",
       "      <td>0.000926</td>\n",
       "      <td>0.162150</td>\n",
       "      <td>0.010000</td>\n",
       "      <td>...</td>\n",
       "      <td>2.827434</td>\n",
       "      <td>5.368985</td>\n",
       "      <td>6.344054</td>\n",
       "      <td>3.257741</td>\n",
       "      <td>6.484733</td>\n",
       "      <td>4.6</td>\n",
       "      <td>2.854769</td>\n",
       "      <td>8.387898</td>\n",
       "      <td>1.475309</td>\n",
       "      <td>1.116795</td>\n",
       "    </tr>\n",
       "    <tr>\n",
       "      <th>3</th>\n",
       "      <td>542</td>\n",
       "      <td>0.029869</td>\n",
       "      <td>-0.049177</td>\n",
       "      <td>0.494766</td>\n",
       "      <td>0.033481</td>\n",
       "      <td>-0.018023</td>\n",
       "      <td>0.002344</td>\n",
       "      <td>0.011187</td>\n",
       "      <td>0.046336</td>\n",
       "      <td>-0.045000</td>\n",
       "      <td>...</td>\n",
       "      <td>5.435398</td>\n",
       "      <td>0.543682</td>\n",
       "      <td>2.423336</td>\n",
       "      <td>3.170310</td>\n",
       "      <td>7.361069</td>\n",
       "      <td>5.0</td>\n",
       "      <td>8.065029</td>\n",
       "      <td>1.586626</td>\n",
       "      <td>3.593621</td>\n",
       "      <td>0.593350</td>\n",
       "    </tr>\n",
       "    <tr>\n",
       "      <th>4</th>\n",
       "      <td>437</td>\n",
       "      <td>0.059132</td>\n",
       "      <td>0.014916</td>\n",
       "      <td>0.900000</td>\n",
       "      <td>-0.056268</td>\n",
       "      <td>0.004291</td>\n",
       "      <td>-0.006644</td>\n",
       "      <td>0.056239</td>\n",
       "      <td>-0.004847</td>\n",
       "      <td>-0.055000</td>\n",
       "      <td>...</td>\n",
       "      <td>3.365487</td>\n",
       "      <td>1.485148</td>\n",
       "      <td>4.103964</td>\n",
       "      <td>5.591075</td>\n",
       "      <td>3.423664</td>\n",
       "      <td>2.8</td>\n",
       "      <td>2.784682</td>\n",
       "      <td>0.633599</td>\n",
       "      <td>6.989712</td>\n",
       "      <td>0.135976</td>\n",
       "    </tr>\n",
       "  </tbody>\n",
       "</table>\n",
       "<p>5 rows × 53 columns</p>\n",
       "</div>"
      ],
      "text/plain": [
       "   subject_avg  sensor_00_avg  sensor_01_avg  sensor_02_avg  sensor_03_avg  \\\n",
       "0           47       0.041744      -0.013025       0.739306       0.034204   \n",
       "1           66      -0.069294      -0.019958      -1.602773       0.120162   \n",
       "2           66      -0.001546       0.025000      -1.008764      -0.024794   \n",
       "3          542       0.029869      -0.049177       0.494766       0.033481   \n",
       "4          437       0.059132       0.014916       0.900000      -0.056268   \n",
       "\n",
       "   sensor_04_avg  sensor_05_avg  sensor_06_avg  sensor_07_avg  sensor_08_avg  \\\n",
       "0      -0.054774       0.018537       0.016545       0.055153       0.031667   \n",
       "1       0.147499      -0.002032      -0.053780      -0.009746      -0.075000   \n",
       "2      -0.174372      -0.000362       0.000926       0.162150       0.010000   \n",
       "3      -0.018023       0.002344       0.011187       0.046336      -0.045000   \n",
       "4       0.004291      -0.006644       0.056239      -0.004847      -0.055000   \n",
       "\n",
       "   ...  sensor_03_max  sensor_04_max  sensor_05_max  sensor_06_max  \\\n",
       "0  ...       5.712389       0.971886       1.280479       2.977231   \n",
       "1  ...       5.637168       3.661950       5.956619       2.775046   \n",
       "2  ...       2.827434       5.368985       6.344054       3.257741   \n",
       "3  ...       5.435398       0.543682       2.423336       3.170310   \n",
       "4  ...       3.365487       1.485148       4.103964       5.591075   \n",
       "\n",
       "   sensor_07_max  sensor_08_max  sensor_09_max  sensor_10_max  sensor_11_max  \\\n",
       "0       9.193893            2.3       1.964595       1.809610       2.989712   \n",
       "1       6.950382            2.3       3.800578       9.955438       8.044239   \n",
       "2       6.484733            4.6       2.854769       8.387898       1.475309   \n",
       "3       7.361069            5.0       8.065029       1.586626       3.593621   \n",
       "4       3.423664            2.8       2.784682       0.633599       6.989712   \n",
       "\n",
       "   sensor_12_max  \n",
       "0       6.674766  \n",
       "1     144.598039  \n",
       "2       1.116795  \n",
       "3       0.593350  \n",
       "4       0.135976  \n",
       "\n",
       "[5 rows x 53 columns]"
      ]
     },
     "execution_count": 3,
     "metadata": {},
     "output_type": "execute_result"
    }
   ],
   "source": [
    "df_averaged = df_train.groupby(['sequence','subject']).mean().reset_index()\n",
    "df_averaged = df_averaged.drop(labels = ['sequence','step'],axis=1)\n",
    "df_averaged.columns = [''.join(str(col)).strip()+'_avg' for col in df_averaged.columns.values]\n",
    "df_averaged.head()\n",
    "\n",
    "\n",
    "df_std = df_train.groupby(['sequence','subject']).std().reset_index()\n",
    "df_std = df_std.drop(labels = ['sequence','step'],axis=1)\n",
    "df_std.columns = [''.join(str(col)).strip()+'_std' for col in df_std.columns.values]\n",
    "df_std.head()\n",
    "\n",
    "\n",
    "df_max = df_train.groupby(['sequence','subject']).max().reset_index()\n",
    "df_max = df_max.drop(labels = ['sequence','step'],axis=1)\n",
    "df_max.columns = [''.join(str(col)).strip()+'_max' for col in df_max.columns.values]\n",
    "df_max.head()\n",
    "\n",
    "df_min = df_train.groupby(['sequence','subject']).min().reset_index()\n",
    "df_min = df_min.drop(labels = ['sequence','step'],axis=1)\n",
    "df_min.columns = [''.join(str(col)).strip()+'_min' for col in df_min.columns.values]\n",
    "df_min.head()\n",
    "\n",
    "\n",
    "df_fin = pd.concat([df_averaged,df_std,df_min,df_max],axis=1)\n",
    "df_fin = df_fin.drop(labels = ['subject_std','subject_min','subject_max'],axis=1)\n",
    "df_fin.head()\n",
    "\n"
   ]
  },
  {
   "cell_type": "code",
   "execution_count": 4,
   "id": "c7f8990a",
   "metadata": {
    "execution": {
     "iopub.execute_input": "2022-04-20T21:53:29.912300Z",
     "iopub.status.busy": "2022-04-20T21:53:29.911962Z",
     "iopub.status.idle": "2022-04-20T21:53:31.357866Z",
     "shell.execute_reply": "2022-04-20T21:53:31.356851Z"
    },
    "papermill": {
     "duration": 1.459206,
     "end_time": "2022-04-20T21:53:31.360568",
     "exception": false,
     "start_time": "2022-04-20T21:53:29.901362",
     "status": "completed"
    },
    "tags": []
   },
   "outputs": [],
   "source": [
    "target = df_train_labels['state']\n",
    "input_matrix = df_fin\n",
    "from sklearn.impute import SimpleImputer\n",
    "imp=SimpleImputer( missing_values=np.nan,strategy='mean',fill_value=None,verbose=0,copy=True )\n",
    "input_matrix=imp.fit_transform(input_matrix)\n",
    "from sklearn import preprocessing\n",
    "input_matrix= preprocessing.StandardScaler().fit(input_matrix).transform(input_matrix)"
   ]
  },
  {
   "cell_type": "code",
   "execution_count": 5,
   "id": "5e9b0f6d",
   "metadata": {
    "execution": {
     "iopub.execute_input": "2022-04-20T21:53:31.382371Z",
     "iopub.status.busy": "2022-04-20T21:53:31.381260Z",
     "iopub.status.idle": "2022-04-20T21:55:45.940457Z",
     "shell.execute_reply": "2022-04-20T21:55:45.939450Z"
    },
    "papermill": {
     "duration": 134.581637,
     "end_time": "2022-04-20T21:55:45.951710",
     "exception": false,
     "start_time": "2022-04-20T21:53:31.370073",
     "status": "completed"
    },
    "tags": []
   },
   "outputs": [
    {
     "name": "stdout",
     "output_type": "stream",
     "text": [
      "Maximum accuracy: 0.7698949824970829 with Kernel = rbf\n"
     ]
    }
   ],
   "source": [
    "from sklearn.model_selection import train_test_split\n",
    "from sklearn.neighbors import KNeighborsClassifier\n",
    "from sklearn import metrics\n",
    "#Split Data for training and testing\n",
    "X_train, X_test, y_train, y_test = train_test_split(input_matrix, target,test_size=0.33)\n",
    "\n",
    "from sklearn import svm\n",
    "\n",
    "#Finding best kernel\n",
    "knls = ['linear', 'rbf', 'sigmoid']\n",
    "acc_svm = []\n",
    "for kernel in knls:\n",
    "    clf_krnl = svm.SVC(kernel=kernel,gamma=\"auto\").fit(X_train, y_train)\n",
    "    svm_predict = clf_krnl.predict(X_test)\n",
    "    acc_svm.append(metrics.accuracy_score(y_test, svm_predict)) \n",
    "    \n",
    "print(\"Maximum accuracy:\",max(acc_svm),\"with Kernel =\",knls[acc_svm.index(max(acc_svm))])"
   ]
  },
  {
   "cell_type": "code",
   "execution_count": 6,
   "id": "661b5b9d",
   "metadata": {
    "execution": {
     "iopub.execute_input": "2022-04-20T21:55:45.974020Z",
     "iopub.status.busy": "2022-04-20T21:55:45.972751Z",
     "iopub.status.idle": "2022-04-20T21:56:08.484859Z",
     "shell.execute_reply": "2022-04-20T21:56:08.483852Z"
    },
    "papermill": {
     "duration": 22.526207,
     "end_time": "2022-04-20T21:56:08.487417",
     "exception": false,
     "start_time": "2022-04-20T21:55:45.961210",
     "status": "completed"
    },
    "tags": []
   },
   "outputs": [],
   "source": [
    "#Training the model with best kernel \n",
    "kernel=\"rbf\"\n",
    "clf_krnl = svm.SVC(kernel=kernel,gamma=\"auto\").fit(X_train, y_train)"
   ]
  },
  {
   "cell_type": "code",
   "execution_count": 7,
   "id": "4b87df72",
   "metadata": {
    "execution": {
     "iopub.execute_input": "2022-04-20T21:56:08.508419Z",
     "iopub.status.busy": "2022-04-20T21:56:08.508079Z",
     "iopub.status.idle": "2022-04-20T21:56:09.104646Z",
     "shell.execute_reply": "2022-04-20T21:56:09.103920Z"
    },
    "papermill": {
     "duration": 0.610048,
     "end_time": "2022-04-20T21:56:09.107028",
     "exception": false,
     "start_time": "2022-04-20T21:56:08.496980",
     "status": "completed"
    },
    "tags": []
   },
   "outputs": [],
   "source": [
    "df_averaged = df_test.groupby(['sequence','subject']).mean().reset_index()\n",
    "df_averaged = df_averaged.drop(labels = ['sequence','step'],axis=1)\n",
    "df_averaged.columns = [''.join(str(col)).strip()+'_avg' for col in df_averaged.columns.values]\n",
    "df_averaged.head()\n",
    "\n",
    "\n",
    "df_std = df_test.groupby(['sequence','subject']).std().reset_index()\n",
    "df_std = df_std.drop(labels = ['sequence','step'],axis=1)\n",
    "df_std.columns = [''.join(str(col)).strip()+'_std' for col in df_std.columns.values]\n",
    "df_std.head()\n",
    "\n",
    "\n",
    "df_max = df_test.groupby(['sequence','subject']).max().reset_index()\n",
    "df_max = df_max.drop(labels = ['sequence','step'],axis=1)\n",
    "df_max.columns = [''.join(str(col)).strip()+'_max' for col in df_max.columns.values]\n",
    "df_max.head()\n",
    "\n",
    "df_min = df_test.groupby(['sequence','subject']).min().reset_index()\n",
    "df_min = df_min.drop(labels = ['sequence','step'],axis=1)\n",
    "df_min.columns = [''.join(str(col)).strip()+'_min' for col in df_min.columns.values]\n",
    "df_min.head()\n",
    "\n",
    "\n",
    "df_fin = pd.concat([df_averaged,df_std,df_min,df_max],axis=1)\n",
    "df_fin = df_fin.drop(labels = ['subject_std','subject_min','subject_max'],axis=1)\n",
    "df_fin.head()\n",
    "\n",
    "input_test_matrix = df_fin\n",
    "from sklearn.impute import SimpleImputer\n",
    "imp=SimpleImputer( missing_values=np.nan,strategy='mean',fill_value=None,verbose=0,copy=True )\n",
    "input_test_matrix=imp.fit_transform(input_test_matrix)\n",
    "from sklearn import preprocessing\n",
    "input_test_matrix= preprocessing.StandardScaler().fit(input_test_matrix).transform(input_test_matrix)\n",
    "\n"
   ]
  },
  {
   "cell_type": "code",
   "execution_count": 8,
   "id": "f9a240a2",
   "metadata": {
    "execution": {
     "iopub.execute_input": "2022-04-20T21:56:09.128443Z",
     "iopub.status.busy": "2022-04-20T21:56:09.127896Z",
     "iopub.status.idle": "2022-04-20T21:56:22.518686Z",
     "shell.execute_reply": "2022-04-20T21:56:22.517901Z"
    },
    "papermill": {
     "duration": 13.404071,
     "end_time": "2022-04-20T21:56:22.520910",
     "exception": false,
     "start_time": "2022-04-20T21:56:09.116839",
     "status": "completed"
    },
    "tags": []
   },
   "outputs": [],
   "source": [
    "yhat_svm = clf_krnl.predict(input_test_matrix)"
   ]
  },
  {
   "cell_type": "code",
   "execution_count": 9,
   "id": "7110acd9",
   "metadata": {
    "execution": {
     "iopub.execute_input": "2022-04-20T21:56:22.542694Z",
     "iopub.status.busy": "2022-04-20T21:56:22.542222Z",
     "iopub.status.idle": "2022-04-20T21:56:22.562399Z",
     "shell.execute_reply": "2022-04-20T21:56:22.561637Z"
    },
    "papermill": {
     "duration": 0.034004,
     "end_time": "2022-04-20T21:56:22.565030",
     "exception": false,
     "start_time": "2022-04-20T21:56:22.531026",
     "status": "completed"
    },
    "tags": []
   },
   "outputs": [],
   "source": [
    "import csv\n",
    "with open('submission.csv', 'w') as csvfile:\n",
    "    csvwriter = csv.writer(csvfile)\n",
    "    csvwriter.writerow(['sequence', 'state'])\n",
    "    for i,v in enumerate(yhat_svm):\n",
    "        csvwriter.writerow([i+25968,str(v)])"
   ]
  }
 ],
 "metadata": {
  "kernelspec": {
   "display_name": "Python 3",
   "language": "python",
   "name": "python3"
  },
  "language_info": {
   "codemirror_mode": {
    "name": "ipython",
    "version": 3
   },
   "file_extension": ".py",
   "mimetype": "text/x-python",
   "name": "python",
   "nbconvert_exporter": "python",
   "pygments_lexer": "ipython3",
   "version": "3.7.12"
  },
  "papermill": {
   "default_parameters": {},
   "duration": 197.711878,
   "end_time": "2022-04-20T21:56:23.498555",
   "environment_variables": {},
   "exception": null,
   "input_path": "__notebook__.ipynb",
   "output_path": "__notebook__.ipynb",
   "parameters": {},
   "start_time": "2022-04-20T21:53:05.786677",
   "version": "2.3.4"
  }
 },
 "nbformat": 4,
 "nbformat_minor": 5
}
